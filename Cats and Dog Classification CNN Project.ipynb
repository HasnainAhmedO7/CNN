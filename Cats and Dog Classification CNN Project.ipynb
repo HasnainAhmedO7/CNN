{
 "cells": [
  {
   "cell_type": "code",
   "execution_count": 1,
   "id": "b510209d",
   "metadata": {
    "execution": {
     "iopub.execute_input": "2023-02-07T04:58:27.458905Z",
     "iopub.status.busy": "2023-02-07T04:58:27.458473Z",
     "iopub.status.idle": "2023-02-07T04:58:27.489259Z",
     "shell.execute_reply": "2023-02-07T04:58:27.488241Z",
     "shell.execute_reply.started": "2023-02-07T04:58:27.458819Z"
    }
   },
   "outputs": [],
   "source": [
    "import numpy as np\n",
    "import pandas as pd\n",
    "import matplotlib as mpl\n",
    "import matplotlib.pyplot as plt\n",
    "import os\n",
    "%matplotlib inline"
   ]
  },
  {
   "cell_type": "code",
   "execution_count": 2,
   "id": "5eb2f1bc",
   "metadata": {
    "execution": {
     "iopub.execute_input": "2023-02-07T04:58:27.535568Z",
     "iopub.status.busy": "2023-02-07T04:58:27.535190Z",
     "iopub.status.idle": "2023-02-07T04:58:33.250519Z",
     "shell.execute_reply": "2023-02-07T04:58:33.249360Z",
     "shell.execute_reply.started": "2023-02-07T04:58:27.535537Z"
    }
   },
   "outputs": [],
   "source": [
    "import tensorflow as tf\n",
    "from tensorflow import keras"
   ]
  },
  {
   "cell_type": "code",
   "execution_count": 3,
   "id": "2f3e1200",
   "metadata": {
    "execution": {
     "iopub.execute_input": "2023-02-07T04:58:33.253660Z",
     "iopub.status.busy": "2023-02-07T04:58:33.252983Z",
     "iopub.status.idle": "2023-02-07T04:58:33.260283Z",
     "shell.execute_reply": "2023-02-07T04:58:33.259179Z",
     "shell.execute_reply.started": "2023-02-07T04:58:33.253619Z"
    }
   },
   "outputs": [],
   "source": [
    "train_dir = '/kaggle/input/classificationmodel/train'\n",
    "validation_dir = '/kaggle/input/classificationmodel/validation'\n",
    "test_dir = '/kaggle/input/classificationmodel/test'"
   ]
  },
  {
   "cell_type": "code",
   "execution_count": 4,
   "id": "b9ed29ab",
   "metadata": {
    "execution": {
     "iopub.execute_input": "2023-02-07T04:58:33.262691Z",
     "iopub.status.busy": "2023-02-07T04:58:33.261973Z",
     "iopub.status.idle": "2023-02-07T04:58:34.197230Z",
     "shell.execute_reply": "2023-02-07T04:58:34.196234Z",
     "shell.execute_reply.started": "2023-02-07T04:58:33.262651Z"
    }
   },
   "outputs": [],
   "source": [
    "from tensorflow.keras.preprocessing.image import ImageDataGenerator\n",
    "# it also involves to decode jpeg into RGB pixels"
   ]
  },
  {
   "cell_type": "code",
   "execution_count": 6,
   "id": "107f6f75",
   "metadata": {
    "execution": {
     "iopub.execute_input": "2023-02-07T04:59:06.977769Z",
     "iopub.status.busy": "2023-02-07T04:59:06.977062Z",
     "iopub.status.idle": "2023-02-07T04:59:07.311503Z",
     "shell.execute_reply": "2023-02-07T04:59:07.310473Z",
     "shell.execute_reply.started": "2023-02-07T04:59:06.977712Z"
    }
   },
   "outputs": [
    {
     "name": "stdout",
     "output_type": "stream",
     "text": [
      "Found 2000 images belonging to 2 classes.\n",
      "Found 1000 images belonging to 2 classes.\n"
     ]
    }
   ],
   "source": [
    "# Generating the batches for tensor image\n",
    "train_datagen = ImageDataGenerator(rescale=1./255)\n",
    "test_datagen = ImageDataGenerator(rescale=1./255)\n",
    "train_gen = train_datagen.flow_from_directory(train_dir,\n",
    "                                             target_size=(150,150),\n",
    "                                             batch_size=20,\n",
    "                                             class_mode='binary')\n",
    "validation_generator = test_datagen.flow_from_directory(validation_dir,\n",
    "                                                       target_size=(150,150),\n",
    "                                                       batch_size=20,\n",
    "                                                       class_mode='binary')\n"
   ]
  },
  {
   "cell_type": "code",
   "execution_count": 7,
   "id": "87a3c5d1",
   "metadata": {
    "execution": {
     "iopub.execute_input": "2023-02-07T04:59:10.462371Z",
     "iopub.status.busy": "2023-02-07T04:59:10.461542Z",
     "iopub.status.idle": "2023-02-07T04:59:10.467279Z",
     "shell.execute_reply": "2023-02-07T04:59:10.466176Z",
     "shell.execute_reply.started": "2023-02-07T04:59:10.462330Z"
    }
   },
   "outputs": [],
   "source": [
    "from tensorflow.keras import layers\n",
    "from tensorflow.keras import models"
   ]
  },
  {
   "cell_type": "code",
   "execution_count": 8,
   "id": "fd04bfbc",
   "metadata": {
    "execution": {
     "iopub.execute_input": "2023-02-07T04:59:10.864868Z",
     "iopub.status.busy": "2023-02-07T04:59:10.864493Z",
     "iopub.status.idle": "2023-02-07T04:59:15.312756Z",
     "shell.execute_reply": "2023-02-07T04:59:15.311683Z",
     "shell.execute_reply.started": "2023-02-07T04:59:10.864834Z"
    }
   },
   "outputs": [
    {
     "name": "stderr",
     "output_type": "stream",
     "text": [
      "2023-02-07 04:59:11.019964: I tensorflow/stream_executor/cuda/cuda_gpu_executor.cc:937] successful NUMA node read from SysFS had negative value (-1), but there must be at least one NUMA node, so returning NUMA node zero\n",
      "2023-02-07 04:59:11.021013: I tensorflow/stream_executor/cuda/cuda_gpu_executor.cc:937] successful NUMA node read from SysFS had negative value (-1), but there must be at least one NUMA node, so returning NUMA node zero\n",
      "2023-02-07 04:59:11.142712: I tensorflow/stream_executor/cuda/cuda_gpu_executor.cc:937] successful NUMA node read from SysFS had negative value (-1), but there must be at least one NUMA node, so returning NUMA node zero\n",
      "2023-02-07 04:59:11.143754: I tensorflow/stream_executor/cuda/cuda_gpu_executor.cc:937] successful NUMA node read from SysFS had negative value (-1), but there must be at least one NUMA node, so returning NUMA node zero\n",
      "2023-02-07 04:59:11.144610: I tensorflow/stream_executor/cuda/cuda_gpu_executor.cc:937] successful NUMA node read from SysFS had negative value (-1), but there must be at least one NUMA node, so returning NUMA node zero\n",
      "2023-02-07 04:59:11.145426: I tensorflow/stream_executor/cuda/cuda_gpu_executor.cc:937] successful NUMA node read from SysFS had negative value (-1), but there must be at least one NUMA node, so returning NUMA node zero\n",
      "2023-02-07 04:59:11.147094: I tensorflow/core/platform/cpu_feature_guard.cc:142] This TensorFlow binary is optimized with oneAPI Deep Neural Network Library (oneDNN) to use the following CPU instructions in performance-critical operations:  AVX2 AVX512F FMA\n",
      "To enable them in other operations, rebuild TensorFlow with the appropriate compiler flags.\n",
      "2023-02-07 04:59:11.420985: I tensorflow/stream_executor/cuda/cuda_gpu_executor.cc:937] successful NUMA node read from SysFS had negative value (-1), but there must be at least one NUMA node, so returning NUMA node zero\n",
      "2023-02-07 04:59:11.421929: I tensorflow/stream_executor/cuda/cuda_gpu_executor.cc:937] successful NUMA node read from SysFS had negative value (-1), but there must be at least one NUMA node, so returning NUMA node zero\n",
      "2023-02-07 04:59:11.422724: I tensorflow/stream_executor/cuda/cuda_gpu_executor.cc:937] successful NUMA node read from SysFS had negative value (-1), but there must be at least one NUMA node, so returning NUMA node zero\n",
      "2023-02-07 04:59:11.423507: I tensorflow/stream_executor/cuda/cuda_gpu_executor.cc:937] successful NUMA node read from SysFS had negative value (-1), but there must be at least one NUMA node, so returning NUMA node zero\n",
      "2023-02-07 04:59:11.424231: I tensorflow/stream_executor/cuda/cuda_gpu_executor.cc:937] successful NUMA node read from SysFS had negative value (-1), but there must be at least one NUMA node, so returning NUMA node zero\n",
      "2023-02-07 04:59:11.424930: I tensorflow/stream_executor/cuda/cuda_gpu_executor.cc:937] successful NUMA node read from SysFS had negative value (-1), but there must be at least one NUMA node, so returning NUMA node zero\n",
      "2023-02-07 04:59:14.693069: I tensorflow/stream_executor/cuda/cuda_gpu_executor.cc:937] successful NUMA node read from SysFS had negative value (-1), but there must be at least one NUMA node, so returning NUMA node zero\n",
      "2023-02-07 04:59:14.694038: I tensorflow/stream_executor/cuda/cuda_gpu_executor.cc:937] successful NUMA node read from SysFS had negative value (-1), but there must be at least one NUMA node, so returning NUMA node zero\n",
      "2023-02-07 04:59:14.694788: I tensorflow/stream_executor/cuda/cuda_gpu_executor.cc:937] successful NUMA node read from SysFS had negative value (-1), but there must be at least one NUMA node, so returning NUMA node zero\n",
      "2023-02-07 04:59:14.695608: I tensorflow/stream_executor/cuda/cuda_gpu_executor.cc:937] successful NUMA node read from SysFS had negative value (-1), but there must be at least one NUMA node, so returning NUMA node zero\n",
      "2023-02-07 04:59:14.696379: I tensorflow/stream_executor/cuda/cuda_gpu_executor.cc:937] successful NUMA node read from SysFS had negative value (-1), but there must be at least one NUMA node, so returning NUMA node zero\n",
      "2023-02-07 04:59:14.697096: I tensorflow/core/common_runtime/gpu/gpu_device.cc:1510] Created device /job:localhost/replica:0/task:0/device:GPU:0 with 13789 MB memory:  -> device: 0, name: Tesla T4, pci bus id: 0000:00:04.0, compute capability: 7.5\n",
      "2023-02-07 04:59:14.700149: I tensorflow/stream_executor/cuda/cuda_gpu_executor.cc:937] successful NUMA node read from SysFS had negative value (-1), but there must be at least one NUMA node, so returning NUMA node zero\n",
      "2023-02-07 04:59:14.700910: I tensorflow/core/common_runtime/gpu/gpu_device.cc:1510] Created device /job:localhost/replica:0/task:0/device:GPU:1 with 13789 MB memory:  -> device: 1, name: Tesla T4, pci bus id: 0000:00:05.0, compute capability: 7.5\n"
     ]
    }
   ],
   "source": [
    "model = models.Sequential()\n",
    "\n",
    "model.add(layers.Conv2D(32, (3,3),activation='relu',input_shape = (150,150,3)))\n",
    "model.add(layers.MaxPool2D((2,2)))\n",
    "\n",
    "model.add(layers.Conv2D(64, (3,3),activation='relu'))\n",
    "model.add(layers.MaxPool2D((2,2)))\n",
    "\n",
    "model.add(layers.Conv2D(128, (3,3),activation='relu'))\n",
    "model.add(layers.MaxPool2D((2,2)))\n",
    "\n",
    "model.add(layers.Conv2D(128, (3,3),activation='relu'))\n",
    "model.add(layers.MaxPool2D((2,2)))\n",
    "\n",
    "model.add(layers.Flatten())\n",
    "\n",
    "model.add(layers.Dense(512,activation='relu'))\n",
    "model.add(layers.Dense(1,activation='sigmoid'))"
   ]
  },
  {
   "cell_type": "code",
   "execution_count": null,
   "id": "fd83f05e",
   "metadata": {
    "execution": {
     "iopub.status.busy": "2023-02-07T04:58:34.707531Z",
     "iopub.status.idle": "2023-02-07T04:58:34.708026Z",
     "shell.execute_reply": "2023-02-07T04:58:34.707793Z",
     "shell.execute_reply.started": "2023-02-07T04:58:34.707769Z"
    }
   },
   "outputs": [],
   "source": [
    "model.summary()"
   ]
  },
  {
   "cell_type": "code",
   "execution_count": 9,
   "id": "b358c403",
   "metadata": {
    "execution": {
     "iopub.execute_input": "2023-02-07T04:59:15.315230Z",
     "iopub.status.busy": "2023-02-07T04:59:15.314812Z",
     "iopub.status.idle": "2023-02-07T04:59:15.332883Z",
     "shell.execute_reply": "2023-02-07T04:59:15.331676Z",
     "shell.execute_reply.started": "2023-02-07T04:59:15.315170Z"
    }
   },
   "outputs": [
    {
     "name": "stderr",
     "output_type": "stream",
     "text": [
      "/opt/conda/lib/python3.7/site-packages/keras/optimizer_v2/optimizer_v2.py:356: UserWarning: The `lr` argument is deprecated, use `learning_rate` instead.\n",
      "  \"The `lr` argument is deprecated, use `learning_rate` instead.\")\n"
     ]
    }
   ],
   "source": [
    "from tensorflow.keras import optimizers\n",
    "\n",
    "model.compile(loss='binary_crossentropy',\n",
    "              optimizer=optimizers.RMSprop(lr=1e-4),\n",
    "              metrics=['acc'])"
   ]
  },
  {
   "cell_type": "code",
   "execution_count": 10,
   "id": "6bd7e9aa",
   "metadata": {
    "execution": {
     "iopub.execute_input": "2023-02-07T04:59:24.749417Z",
     "iopub.status.busy": "2023-02-07T04:59:24.749044Z",
     "iopub.status.idle": "2023-02-07T05:03:55.306512Z",
     "shell.execute_reply": "2023-02-07T05:03:55.305243Z",
     "shell.execute_reply.started": "2023-02-07T04:59:24.749385Z"
    }
   },
   "outputs": [
    {
     "name": "stderr",
     "output_type": "stream",
     "text": [
      "/opt/conda/lib/python3.7/site-packages/keras/engine/training.py:1972: UserWarning: `Model.fit_generator` is deprecated and will be removed in a future version. Please use `Model.fit`, which supports generators.\n",
      "  warnings.warn('`Model.fit_generator` is deprecated and '\n",
      "2023-02-07 04:59:25.002988: I tensorflow/compiler/mlir/mlir_graph_optimization_pass.cc:185] None of the MLIR Optimization Passes are enabled (registered 2)\n"
     ]
    },
    {
     "name": "stdout",
     "output_type": "stream",
     "text": [
      "Epoch 1/20\n"
     ]
    },
    {
     "name": "stderr",
     "output_type": "stream",
     "text": [
      "2023-02-07 04:59:27.334198: I tensorflow/stream_executor/cuda/cuda_dnn.cc:369] Loaded cuDNN version 8005\n"
     ]
    },
    {
     "name": "stdout",
     "output_type": "stream",
     "text": [
      "100/100 [==============================] - 30s 196ms/step - loss: 0.6945 - acc: 0.5040 - val_loss: 0.6833 - val_acc: 0.5070\n",
      "Epoch 2/20\n",
      "100/100 [==============================] - 12s 125ms/step - loss: 0.6668 - acc: 0.6035 - val_loss: 0.6693 - val_acc: 0.5690\n",
      "Epoch 3/20\n",
      "100/100 [==============================] - 13s 131ms/step - loss: 0.6338 - acc: 0.6460 - val_loss: 0.6334 - val_acc: 0.6500\n",
      "Epoch 4/20\n",
      "100/100 [==============================] - 12s 119ms/step - loss: 0.5913 - acc: 0.6905 - val_loss: 0.6464 - val_acc: 0.6360\n",
      "Epoch 5/20\n",
      "100/100 [==============================] - 12s 124ms/step - loss: 0.5526 - acc: 0.7155 - val_loss: 0.6620 - val_acc: 0.6270\n",
      "Epoch 6/20\n",
      "100/100 [==============================] - 12s 119ms/step - loss: 0.5204 - acc: 0.7400 - val_loss: 0.5979 - val_acc: 0.6870\n",
      "Epoch 7/20\n",
      "100/100 [==============================] - 12s 120ms/step - loss: 0.4826 - acc: 0.7645 - val_loss: 0.5532 - val_acc: 0.7030\n",
      "Epoch 8/20\n",
      "100/100 [==============================] - 13s 126ms/step - loss: 0.4486 - acc: 0.7875 - val_loss: 0.5765 - val_acc: 0.7050\n",
      "Epoch 9/20\n",
      "100/100 [==============================] - 12s 119ms/step - loss: 0.4280 - acc: 0.8045 - val_loss: 0.5557 - val_acc: 0.7190\n",
      "Epoch 10/20\n",
      "100/100 [==============================] - 12s 118ms/step - loss: 0.4046 - acc: 0.8130 - val_loss: 0.5362 - val_acc: 0.7370\n",
      "Epoch 11/20\n",
      "100/100 [==============================] - 12s 123ms/step - loss: 0.3760 - acc: 0.8210 - val_loss: 0.5624 - val_acc: 0.7250\n",
      "Epoch 12/20\n",
      "100/100 [==============================] - 12s 122ms/step - loss: 0.3565 - acc: 0.8465 - val_loss: 0.5543 - val_acc: 0.7340\n",
      "Epoch 13/20\n",
      "100/100 [==============================] - 13s 126ms/step - loss: 0.3336 - acc: 0.8635 - val_loss: 0.6092 - val_acc: 0.7190\n",
      "Epoch 14/20\n",
      "100/100 [==============================] - 12s 120ms/step - loss: 0.3056 - acc: 0.8745 - val_loss: 0.5798 - val_acc: 0.7310\n",
      "Epoch 15/20\n",
      "100/100 [==============================] - 12s 115ms/step - loss: 0.2819 - acc: 0.8835 - val_loss: 0.5915 - val_acc: 0.7400\n",
      "Epoch 16/20\n",
      "100/100 [==============================] - 12s 121ms/step - loss: 0.2592 - acc: 0.8930 - val_loss: 0.5859 - val_acc: 0.7390\n",
      "Epoch 17/20\n",
      "100/100 [==============================] - 12s 119ms/step - loss: 0.2403 - acc: 0.9085 - val_loss: 0.5898 - val_acc: 0.7450\n",
      "Epoch 18/20\n",
      "100/100 [==============================] - 13s 128ms/step - loss: 0.2220 - acc: 0.9075 - val_loss: 0.6226 - val_acc: 0.7420\n",
      "Epoch 19/20\n",
      "100/100 [==============================] - 12s 122ms/step - loss: 0.1898 - acc: 0.9280 - val_loss: 0.6620 - val_acc: 0.7340\n",
      "Epoch 20/20\n",
      "100/100 [==============================] - 12s 120ms/step - loss: 0.1728 - acc: 0.9380 - val_loss: 0.7422 - val_acc: 0.7260\n"
     ]
    }
   ],
   "source": [
    "history = model.fit_generator(\n",
    "      train_gen,\n",
    "      steps_per_epoch=100,\n",
    "      epochs=20,\n",
    "      validation_data=validation_generator,\n",
    "      validation_steps=50)"
   ]
  },
  {
   "cell_type": "code",
   "execution_count": 11,
   "id": "d1a242ba",
   "metadata": {
    "execution": {
     "iopub.execute_input": "2023-02-07T05:03:55.309103Z",
     "iopub.status.busy": "2023-02-07T05:03:55.308791Z",
     "iopub.status.idle": "2023-02-07T05:03:55.620191Z",
     "shell.execute_reply": "2023-02-07T05:03:55.619122Z",
     "shell.execute_reply.started": "2023-02-07T05:03:55.309074Z"
    }
   },
   "outputs": [
    {
     "data": {
      "image/png": "[encoded data removed]",
      "text/plain": [
       "<Figure size 576x360 with 1 Axes>"
      ]
     },
     "metadata": {
      "needs_background": "light"
     },
     "output_type": "display_data"
    }
   ],
   "source": [
    "pd.DataFrame(history.history).plot(figsize=(8, 5))\n",
    "plt.grid(True)\n",
    "plt.gca().set_ylim(0, 1)\n",
    "plt.show()"
   ]
  },
  {
   "cell_type": "code",
   "execution_count": 13,
   "id": "a1089b71",
   "metadata": {
    "execution": {
     "iopub.execute_input": "2023-02-07T05:04:01.387058Z",
     "iopub.status.busy": "2023-02-07T05:04:01.384269Z",
     "iopub.status.idle": "2023-02-07T05:04:01.391957Z",
     "shell.execute_reply": "2023-02-07T05:04:01.390637Z",
     "shell.execute_reply.started": "2023-02-07T05:04:01.387018Z"
    }
   },
   "outputs": [],
   "source": [
    "#clear sign of overfitting since. See the graph of val acc and acc"
   ]
  },
  {
   "cell_type": "code",
   "execution_count": null,
   "id": "2d7ba3cb",
   "metadata": {
    "execution": {
     "iopub.status.busy": "2023-02-07T04:58:34.720954Z",
     "iopub.status.idle": "2023-02-07T04:58:34.721837Z",
     "shell.execute_reply": "2023-02-07T04:58:34.721597Z",
     "shell.execute_reply.started": "2023-02-07T04:58:34.721572Z"
    }
   },
   "outputs": [],
   "source": []
  },
  {
   "cell_type": "code",
   "execution_count": 14,
   "id": "7668b526",
   "metadata": {
    "execution": {
     "iopub.execute_input": "2023-02-07T05:04:18.158822Z",
     "iopub.status.busy": "2023-02-07T05:04:18.158416Z",
     "iopub.status.idle": "2023-02-07T05:04:18.164118Z",
     "shell.execute_reply": "2023-02-07T05:04:18.162839Z",
     "shell.execute_reply.started": "2023-02-07T05:04:18.158789Z"
    }
   },
   "outputs": [],
   "source": [
    "del model"
   ]
  },
  {
   "cell_type": "code",
   "execution_count": 15,
   "id": "b6b716b4",
   "metadata": {
    "execution": {
     "iopub.execute_input": "2023-02-07T05:04:27.015417Z",
     "iopub.status.busy": "2023-02-07T05:04:27.014996Z",
     "iopub.status.idle": "2023-02-07T05:04:27.029947Z",
     "shell.execute_reply": "2023-02-07T05:04:27.028593Z",
     "shell.execute_reply.started": "2023-02-07T05:04:27.015382Z"
    }
   },
   "outputs": [],
   "source": [
    "keras.backend.clear_session()"
   ]
  },
  {
   "cell_type": "markdown",
   "id": "0879c9ca",
   "metadata": {},
   "source": [
    "### Using the transfer learning rate from VGG16"
   ]
  },
  {
   "cell_type": "code",
   "execution_count": 16,
   "id": "de2844f5",
   "metadata": {
    "execution": {
     "iopub.execute_input": "2023-02-07T05:04:29.797194Z",
     "iopub.status.busy": "2023-02-07T05:04:29.796774Z",
     "iopub.status.idle": "2023-02-07T05:04:29.803536Z",
     "shell.execute_reply": "2023-02-07T05:04:29.802281Z",
     "shell.execute_reply.started": "2023-02-07T05:04:29.797155Z"
    }
   },
   "outputs": [],
   "source": [
    "from tensorflow.keras.preprocessing.image import ImageDataGenerator"
   ]
  },
  {
   "cell_type": "code",
   "execution_count": 18,
   "id": "f554d8c9",
   "metadata": {
    "execution": {
     "iopub.execute_input": "2023-02-07T05:04:43.930371Z",
     "iopub.status.busy": "2023-02-07T05:04:43.929353Z",
     "iopub.status.idle": "2023-02-07T05:04:44.149632Z",
     "shell.execute_reply": "2023-02-07T05:04:44.148537Z",
     "shell.execute_reply.started": "2023-02-07T05:04:43.930333Z"
    }
   },
   "outputs": [
    {
     "name": "stdout",
     "output_type": "stream",
     "text": [
      "Found 2000 images belonging to 2 classes.\n",
      "Found 1000 images belonging to 2 classes.\n"
     ]
    }
   ],
   "source": [
    "train_datagen = ImageDataGenerator(rescale=1./255,\n",
    "                                  rotation_range=40,\n",
    "                                  width_shift_range=0.2,\n",
    "                                  height_shift_range=0.2,\n",
    "                                  shear_range=0.2,\n",
    "                                  zoom_range=0.2,\n",
    "                                  horizontal_flip=True)\n",
    "\n",
    "test_datagen = ImageDataGenerator(rescale=1./255)\n",
    "\n",
    "train_generator = train_datagen.flow_from_directory(train_dir,\n",
    "                                                   target_size=(150,150),\n",
    "                                                   batch_size=20,\n",
    "                                                   class_mode='binary')\n",
    "\n",
    "validation_generator = test_datagen.flow_from_directory(validation_dir,\n",
    "                                                       target_size=(150,150),\n",
    "                                                       batch_size=20,\n",
    "                                                       class_mode='binary')"
   ]
  },
  {
   "cell_type": "code",
   "execution_count": 19,
   "id": "18d838a9",
   "metadata": {
    "execution": {
     "iopub.execute_input": "2023-02-07T05:04:46.189773Z",
     "iopub.status.busy": "2023-02-07T05:04:46.189359Z",
     "iopub.status.idle": "2023-02-07T05:04:46.964784Z",
     "shell.execute_reply": "2023-02-07T05:04:46.963637Z",
     "shell.execute_reply.started": "2023-02-07T05:04:46.189738Z"
    }
   },
   "outputs": [
    {
     "name": "stdout",
     "output_type": "stream",
     "text": [
      "Downloading data from https://storage.googleapis.com/tensorflow/keras-applications/vgg16/vgg16_weights_tf_dim_ordering_tf_kernels_notop.h5\n",
      "58892288/58889256 [==============================] - 0s 0us/step\n",
      "58900480/58889256 [==============================] - 0s 0us/step\n"
     ]
    }
   ],
   "source": [
    "from tensorflow.keras.applications import VGG16\n",
    "\n",
    "con_base = VGG16(weights = 'imagenet',\n",
    "                include_top = False,\n",
    "                input_shape = (150,150,3))"
   ]
  },
  {
   "cell_type": "code",
   "execution_count": 20,
   "id": "870520c4",
   "metadata": {
    "execution": {
     "iopub.execute_input": "2023-02-07T05:05:04.345678Z",
     "iopub.status.busy": "2023-02-07T05:05:04.345262Z",
     "iopub.status.idle": "2023-02-07T05:05:04.353496Z",
     "shell.execute_reply": "2023-02-07T05:05:04.352441Z",
     "shell.execute_reply.started": "2023-02-07T05:05:04.345642Z"
    }
   },
   "outputs": [
    {
     "name": "stdout",
     "output_type": "stream",
     "text": [
      "Model: \"vgg16\"\n",
      "_________________________________________________________________\n",
      "Layer (type)                 Output Shape              Param #   \n",
      "=================================================================\n",
      "input_1 (InputLayer)         [(None, 150, 150, 3)]     0         \n",
      "_________________________________________________________________\n",
      "block1_conv1 (Conv2D)        (None, 150, 150, 64)      1792      \n",
      "_________________________________________________________________\n",
      "block1_conv2 (Conv2D)        (None, 150, 150, 64)      36928     \n",
      "_________________________________________________________________\n",
      "block1_pool (MaxPooling2D)   (None, 75, 75, 64)        0         \n",
      "_________________________________________________________________\n",
      "block2_conv1 (Conv2D)        (None, 75, 75, 128)       73856     \n",
      "_________________________________________________________________\n",
      "block2_conv2 (Conv2D)        (None, 75, 75, 128)       147584    \n",
      "_________________________________________________________________\n",
      "block2_pool (MaxPooling2D)   (None, 37, 37, 128)       0         \n",
      "_________________________________________________________________\n",
      "block3_conv1 (Conv2D)        (None, 37, 37, 256)       295168    \n",
      "_________________________________________________________________\n",
      "block3_conv2 (Conv2D)        (None, 37, 37, 256)       590080    \n",
      "_________________________________________________________________\n",
      "block3_conv3 (Conv2D)        (None, 37, 37, 256)       590080    \n",
      "_________________________________________________________________\n",
      "block3_pool (MaxPooling2D)   (None, 18, 18, 256)       0         \n",
      "_________________________________________________________________\n",
      "block4_conv1 (Conv2D)        (None, 18, 18, 512)       1180160   \n",
      "_________________________________________________________________\n",
      "block4_conv2 (Conv2D)        (None, 18, 18, 512)       2359808   \n",
      "_________________________________________________________________\n",
      "block4_conv3 (Conv2D)        (None, 18, 18, 512)       2359808   \n",
      "_________________________________________________________________\n",
      "block4_pool (MaxPooling2D)   (None, 9, 9, 512)         0         \n",
      "_________________________________________________________________\n",
      "block5_conv1 (Conv2D)        (None, 9, 9, 512)         2359808   \n",
      "_________________________________________________________________\n",
      "block5_conv2 (Conv2D)        (None, 9, 9, 512)         2359808   \n",
      "_________________________________________________________________\n",
      "block5_conv3 (Conv2D)        (None, 9, 9, 512)         2359808   \n",
      "_________________________________________________________________\n",
      "block5_pool (MaxPooling2D)   (None, 4, 4, 512)         0         \n",
      "=================================================================\n",
      "Total params: 14,714,688\n",
      "Trainable params: 14,714,688\n",
      "Non-trainable params: 0\n",
      "_________________________________________________________________\n"
     ]
    }
   ],
   "source": [
    "con_base.summary()"
   ]
  },
  {
   "cell_type": "code",
   "execution_count": 21,
   "id": "6041dcdd",
   "metadata": {
    "execution": {
     "iopub.execute_input": "2023-02-07T05:05:09.365425Z",
     "iopub.status.busy": "2023-02-07T05:05:09.365020Z",
     "iopub.status.idle": "2023-02-07T05:05:09.372553Z",
     "shell.execute_reply": "2023-02-07T05:05:09.371309Z",
     "shell.execute_reply.started": "2023-02-07T05:05:09.365387Z"
    }
   },
   "outputs": [],
   "source": [
    "con_base.trainable = False"
   ]
  },
  {
   "cell_type": "code",
   "execution_count": 22,
   "id": "6bbaeb1e",
   "metadata": {
    "execution": {
     "iopub.execute_input": "2023-02-07T05:05:12.958736Z",
     "iopub.status.busy": "2023-02-07T05:05:12.958330Z",
     "iopub.status.idle": "2023-02-07T05:05:12.964103Z",
     "shell.execute_reply": "2023-02-07T05:05:12.962729Z",
     "shell.execute_reply.started": "2023-02-07T05:05:12.958700Z"
    }
   },
   "outputs": [],
   "source": [
    "from tensorflow import keras"
   ]
  },
  {
   "cell_type": "code",
   "execution_count": 23,
   "id": "1a2d875e",
   "metadata": {
    "execution": {
     "iopub.execute_input": "2023-02-07T05:05:13.366077Z",
     "iopub.status.busy": "2023-02-07T05:05:13.365345Z",
     "iopub.status.idle": "2023-02-07T05:05:13.445522Z",
     "shell.execute_reply": "2023-02-07T05:05:13.444525Z",
     "shell.execute_reply.started": "2023-02-07T05:05:13.366039Z"
    }
   },
   "outputs": [],
   "source": [
    "from tensorflow.keras import models\n",
    "from tensorflow.keras import layers\n",
    "\n",
    "model = models.Sequential()\n",
    "model.add(con_base)\n",
    "model.add(layers.Flatten())\n",
    "model.add(layers.Dense(256, activation='relu'))\n",
    "model.add(layers.Dense(1, activation='sigmoid'))"
   ]
  },
  {
   "cell_type": "code",
   "execution_count": 24,
   "id": "e278dbb2",
   "metadata": {
    "execution": {
     "iopub.execute_input": "2023-02-07T05:05:16.088085Z",
     "iopub.status.busy": "2023-02-07T05:05:16.085335Z",
     "iopub.status.idle": "2023-02-07T05:05:16.099122Z",
     "shell.execute_reply": "2023-02-07T05:05:16.097998Z",
     "shell.execute_reply.started": "2023-02-07T05:05:16.088044Z"
    }
   },
   "outputs": [],
   "source": [
    "from tensorflow.keras import optimizers\n",
    "\n",
    "model.compile(loss='binary_crossentropy',\n",
    "              optimizer=optimizers.RMSprop(lr=2e-5),\n",
    "              metrics=['acc'])"
   ]
  },
  {
   "cell_type": "code",
   "execution_count": 25,
   "id": "855e5855",
   "metadata": {
    "execution": {
     "iopub.execute_input": "2023-02-07T05:05:16.408833Z",
     "iopub.status.busy": "2023-02-07T05:05:16.408079Z",
     "iopub.status.idle": "2023-02-07T05:05:16.414346Z",
     "shell.execute_reply": "2023-02-07T05:05:16.413130Z",
     "shell.execute_reply.started": "2023-02-07T05:05:16.408793Z"
    }
   },
   "outputs": [],
   "source": [
    "checkpoint_cb = keras.callbacks.ModelCheckpoint(\"CNN_Project_Model-{epoch:02d}.h5\")"
   ]
  },
  {
   "cell_type": "code",
   "execution_count": 26,
   "id": "492577f5",
   "metadata": {
    "execution": {
     "iopub.execute_input": "2023-02-07T05:05:21.811163Z",
     "iopub.status.busy": "2023-02-07T05:05:21.810787Z",
     "iopub.status.idle": "2023-02-07T05:18:17.322541Z",
     "shell.execute_reply": "2023-02-07T05:18:17.321430Z",
     "shell.execute_reply.started": "2023-02-07T05:05:21.811129Z"
    }
   },
   "outputs": [
    {
     "name": "stdout",
     "output_type": "stream",
     "text": [
      "Epoch 1/30\n",
      "100/100 [==============================] - 28s 255ms/step - loss: 0.5988 - acc: 0.6915 - val_loss: 0.4539 - val_acc: 0.8280\n",
      "Epoch 2/30\n",
      "100/100 [==============================] - 25s 252ms/step - loss: 0.4915 - acc: 0.7770 - val_loss: 0.3806 - val_acc: 0.8530\n",
      "Epoch 3/30\n",
      "100/100 [==============================] - 25s 253ms/step - loss: 0.4378 - acc: 0.8085 - val_loss: 0.3291 - val_acc: 0.8760\n",
      "Epoch 4/30\n",
      "100/100 [==============================] - 25s 251ms/step - loss: 0.4062 - acc: 0.8170 - val_loss: 0.3069 - val_acc: 0.8840\n",
      "Epoch 5/30\n",
      "100/100 [==============================] - 25s 247ms/step - loss: 0.3859 - acc: 0.8330 - val_loss: 0.2915 - val_acc: 0.8940\n",
      "Epoch 6/30\n",
      "100/100 [==============================] - 26s 255ms/step - loss: 0.3799 - acc: 0.8280 - val_loss: 0.2826 - val_acc: 0.8880\n",
      "Epoch 7/30\n",
      "100/100 [==============================] - 25s 252ms/step - loss: 0.3665 - acc: 0.8380 - val_loss: 0.2794 - val_acc: 0.8900\n",
      "Epoch 8/30\n",
      "100/100 [==============================] - 25s 254ms/step - loss: 0.3449 - acc: 0.8500 - val_loss: 0.2689 - val_acc: 0.8940\n",
      "Epoch 9/30\n",
      "100/100 [==============================] - 25s 253ms/step - loss: 0.3334 - acc: 0.8575 - val_loss: 0.2595 - val_acc: 0.8980\n",
      "Epoch 10/30\n",
      "100/100 [==============================] - 25s 247ms/step - loss: 0.3289 - acc: 0.8600 - val_loss: 0.2556 - val_acc: 0.9020\n",
      "Epoch 11/30\n",
      "100/100 [==============================] - 25s 252ms/step - loss: 0.3385 - acc: 0.8430 - val_loss: 0.2543 - val_acc: 0.8940\n",
      "Epoch 12/30\n",
      "100/100 [==============================] - 25s 253ms/step - loss: 0.3178 - acc: 0.8665 - val_loss: 0.2517 - val_acc: 0.9020\n",
      "Epoch 13/30\n",
      "100/100 [==============================] - 25s 251ms/step - loss: 0.3141 - acc: 0.8620 - val_loss: 0.2551 - val_acc: 0.8960\n",
      "Epoch 14/30\n",
      "100/100 [==============================] - 24s 244ms/step - loss: 0.3318 - acc: 0.8560 - val_loss: 0.2631 - val_acc: 0.8930\n",
      "Epoch 15/30\n",
      "100/100 [==============================] - 24s 241ms/step - loss: 0.3215 - acc: 0.8565 - val_loss: 0.2530 - val_acc: 0.8980\n",
      "Epoch 16/30\n",
      "100/100 [==============================] - 25s 250ms/step - loss: 0.3054 - acc: 0.8660 - val_loss: 0.2765 - val_acc: 0.8810\n",
      "Epoch 17/30\n",
      "100/100 [==============================] - 25s 251ms/step - loss: 0.3127 - acc: 0.8590 - val_loss: 0.2458 - val_acc: 0.9010\n",
      "Epoch 18/30\n",
      "100/100 [==============================] - 25s 254ms/step - loss: 0.3139 - acc: 0.8650 - val_loss: 0.2453 - val_acc: 0.8990\n",
      "Epoch 19/30\n",
      "100/100 [==============================] - 25s 251ms/step - loss: 0.3119 - acc: 0.8585 - val_loss: 0.2405 - val_acc: 0.9070\n",
      "Epoch 20/30\n",
      "100/100 [==============================] - 25s 247ms/step - loss: 0.2980 - acc: 0.8785 - val_loss: 0.2451 - val_acc: 0.9060\n",
      "Epoch 21/30\n",
      "100/100 [==============================] - 25s 251ms/step - loss: 0.2956 - acc: 0.8660 - val_loss: 0.2466 - val_acc: 0.8990\n",
      "Epoch 22/30\n",
      "100/100 [==============================] - 24s 244ms/step - loss: 0.3009 - acc: 0.8695 - val_loss: 0.2369 - val_acc: 0.9090\n",
      "Epoch 23/30\n",
      "100/100 [==============================] - 25s 252ms/step - loss: 0.3030 - acc: 0.8720 - val_loss: 0.2439 - val_acc: 0.9010\n",
      "Epoch 24/30\n",
      "100/100 [==============================] - 25s 251ms/step - loss: 0.3051 - acc: 0.8695 - val_loss: 0.2427 - val_acc: 0.9030\n",
      "Epoch 25/30\n",
      "100/100 [==============================] - 25s 251ms/step - loss: 0.2879 - acc: 0.8755 - val_loss: 0.2336 - val_acc: 0.9100\n",
      "Epoch 26/30\n",
      "100/100 [==============================] - 25s 251ms/step - loss: 0.2856 - acc: 0.8820 - val_loss: 0.2439 - val_acc: 0.8990\n",
      "Epoch 27/30\n",
      "100/100 [==============================] - 25s 247ms/step - loss: 0.2883 - acc: 0.8775 - val_loss: 0.2352 - val_acc: 0.9090\n",
      "Epoch 28/30\n",
      "100/100 [==============================] - 25s 251ms/step - loss: 0.2921 - acc: 0.8650 - val_loss: 0.2400 - val_acc: 0.9050\n",
      "Epoch 29/30\n",
      "100/100 [==============================] - 25s 252ms/step - loss: 0.2854 - acc: 0.8775 - val_loss: 0.2415 - val_acc: 0.9050\n",
      "Epoch 30/30\n",
      "100/100 [==============================] - 26s 259ms/step - loss: 0.2856 - acc: 0.8735 - val_loss: 0.2366 - val_acc: 0.9100\n"
     ]
    }
   ],
   "source": [
    "history = model.fit_generator(\n",
    "      train_generator,\n",
    "      steps_per_epoch=100,\n",
    "      epochs=30,\n",
    "      validation_data=validation_generator,\n",
    "      validation_steps=50,\n",
    "      callbacks=[checkpoint_cb])"
   ]
  },
  {
   "cell_type": "code",
   "execution_count": 27,
   "id": "ecb5aa9c",
   "metadata": {
    "execution": {
     "iopub.execute_input": "2023-02-07T05:18:17.326606Z",
     "iopub.status.busy": "2023-02-07T05:18:17.326190Z",
     "iopub.status.idle": "2023-02-07T05:18:17.580127Z",
     "shell.execute_reply": "2023-02-07T05:18:17.579056Z",
     "shell.execute_reply.started": "2023-02-07T05:18:17.326573Z"
    }
   },
   "outputs": [
    {
     "data": {
      "image/png": "[encoded data removed]",
      "text/plain": [
       "<Figure size 576x360 with 1 Axes>"
      ]
     },
     "metadata": {
      "needs_background": "light"
     },
     "output_type": "display_data"
    }
   ],
   "source": [
    "pd.DataFrame(history.history).plot(figsize=(8, 5))\n",
    "plt.grid(True)\n",
    "plt.gca().set_ylim(0, 1)\n",
    "plt.show()"
   ]
  },
  {
   "cell_type": "code",
   "execution_count": 28,
   "id": "dda8db4d",
   "metadata": {
    "execution": {
     "iopub.execute_input": "2023-02-07T05:18:17.582843Z",
     "iopub.status.busy": "2023-02-07T05:18:17.582052Z",
     "iopub.status.idle": "2023-02-07T05:18:17.589430Z",
     "shell.execute_reply": "2023-02-07T05:18:17.588344Z",
     "shell.execute_reply.started": "2023-02-07T05:18:17.582799Z"
    }
   },
   "outputs": [],
   "source": [
    "hist_df = pd.DataFrame(history.history) "
   ]
  },
  {
   "cell_type": "code",
   "execution_count": 29,
   "id": "33838eef",
   "metadata": {
    "execution": {
     "iopub.execute_input": "2023-02-07T05:18:17.592609Z",
     "iopub.status.busy": "2023-02-07T05:18:17.592157Z",
     "iopub.status.idle": "2023-02-07T05:18:17.603155Z",
     "shell.execute_reply": "2023-02-07T05:18:17.602124Z",
     "shell.execute_reply.started": "2023-02-07T05:18:17.592561Z"
    }
   },
   "outputs": [],
   "source": [
    "hist_csv_file = 'history.csv'\n",
    "with open(hist_csv_file, mode='w') as f:\n",
    "    hist_df.to_csv(f)"
   ]
  },
  {
   "cell_type": "code",
   "execution_count": 30,
   "id": "ab78176d",
   "metadata": {
    "execution": {
     "iopub.execute_input": "2023-02-07T05:18:17.605927Z",
     "iopub.status.busy": "2023-02-07T05:18:17.604692Z",
     "iopub.status.idle": "2023-02-07T05:18:17.756413Z",
     "shell.execute_reply": "2023-02-07T05:18:17.755247Z",
     "shell.execute_reply.started": "2023-02-07T05:18:17.605882Z"
    }
   },
   "outputs": [],
   "source": [
    "model.save(\"modelatkagglegpu.h5\")"
   ]
  },
  {
   "cell_type": "code",
   "execution_count": null,
   "id": "5d75cbf8",
   "metadata": {},
   "outputs": [],
   "source": []
  }
 ],
 "metadata": {
  "kernelspec": {
   "display_name": "Python 3 (ipykernel)",
   "language": "python",
   "name": "python3"
  },
  "language_info": {
   "codemirror_mode": {
    "name": "ipython",
    "version": 3
   },
   "file_extension": ".py",
   "mimetype": "text/x-python",
   "name": "python",
   "nbconvert_exporter": "python",
   "pygments_lexer": "ipython3",
   "version": "3.9.13"
  }
 },
 "nbformat": 4,
 "nbformat_minor": 5
}
